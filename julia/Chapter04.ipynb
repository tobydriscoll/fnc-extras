{
 "cells": [
  {
   "cell_type": "code",
   "execution_count": null,
   "metadata": {},
   "outputs": [],
   "source": [
    "using Polynomials,SpecialFunctions\n",
    "using LinearAlgebra\n",
    "using NLsolve\n",
    "using Plots,LaTeXStrings\n",
    "default(markersize=3,linewidth=1.5)\n",
    "#include(\"FNC.jl\")\n",
    "include(\"functions/chapter04.jl\");"
   ]
  },
  {
   "cell_type": "markdown",
   "metadata": {},
   "source": [
    "# Example 4.1.1"
   ]
  },
  {
   "cell_type": "markdown",
   "metadata": {},
   "source": [
    "In the theory of vibrations of a circular drum, the displacement of the drumhead can be expressed in terms of pure harmonic modes, \n",
    "\n",
    "$$J_m(\\omega_{k,m} r) \\cos(m\\theta) \\cos(c \\omega_{k,m} t),$$\n",
    "\n",
    "where $(r,\\theta)$ are polar coordinates, $0\\le r\\le 1$, $t$ is time, $m$ is a positive integer, $c$ is a material parameter, and $J_m$ is a _Bessel function of the first kind_. The quantity $\\omega_{k,m}$ is a resonant frequency and is a positive root of the equation  \n",
    "\n",
    "$$J_m(\\omega_{k,m}) = 0,$$ \n",
    "\n",
    "which states that the drumhead is clamped around the rim. Tabulating approximations to the zeros of Bessel functions has occupied countless mathematician-hours throughout the centuries. "
   ]
  },
  {
   "cell_type": "code",
   "execution_count": null,
   "metadata": {},
   "outputs": [],
   "source": [
    "J3(x) = besselj(3,x)\n",
    "plot(J3,0,20,\n",
    "    grid=:xy,legend=:none,\n",
    "    xaxis=(L\"x\"),yaxis=(L\"J_3(x)\"),title=\"Bessel function\")"
   ]
  },
  {
   "cell_type": "markdown",
   "metadata": {},
   "source": [
    "From the graph we see roots near 6, 10, 13, 16, and 19. We use `nlsolve` from the `NLsolve` package to find these roots accurately. (It uses vector variables, so we have to adapt it for use with scalars.)"
   ]
  },
  {
   "cell_type": "code",
   "execution_count": null,
   "metadata": {},
   "outputs": [],
   "source": [
    "methods(nlsolve)"
   ]
  },
  {
   "cell_type": "code",
   "execution_count": null,
   "metadata": {},
   "outputs": [],
   "source": [
    "omega = Float64[]\n",
    "for guess = [6.,10.,13.,16.,19.]\n",
    "    s = nlsolve(x->besselj(3,x[1]),[guess])\n",
    "    omega = push!(omega,s.zero[1])\n",
    "end\n",
    "omega"
   ]
  },
  {
   "cell_type": "code",
   "execution_count": null,
   "metadata": {},
   "outputs": [],
   "source": [
    "scatter!(omega,J3.(omega),title=\"Bessel function with roots\")"
   ]
  },
  {
   "cell_type": "markdown",
   "metadata": {},
   "source": [
    "# Example 4.3.1"
   ]
  },
  {
   "cell_type": "markdown",
   "metadata": {},
   "source": [
    "Suppose we want to find a root of the function "
   ]
  },
  {
   "cell_type": "code",
   "execution_count": null,
   "metadata": {},
   "outputs": [],
   "source": [
    "f = x -> x*exp(x) - 2\n",
    "\n",
    "plot(f,0,1.5,label=\"function\",grid=:y,\n",
    "    xlabel=\"x\",ylabel=\"y\",legend=:topleft)"
   ]
  },
  {
   "cell_type": "markdown",
   "metadata": {},
   "source": [
    "From the graph, it is clear that there is a root near $x=1$. So we call that our initial guess, $x_1$."
   ]
  },
  {
   "cell_type": "code",
   "execution_count": null,
   "metadata": {},
   "outputs": [],
   "source": [
    "x1 = 1\n",
    "f1 = f(x1)\n",
    "scatter!([x1],[f1],label=\"initial point\")"
   ]
  },
  {
   "cell_type": "markdown",
   "metadata": {},
   "source": [
    "Next, we can compute the tangent line at the point $\\bigl(x_1,f(x_1)\\bigr)$, using the derivative."
   ]
  },
  {
   "cell_type": "code",
   "execution_count": null,
   "metadata": {},
   "outputs": [],
   "source": [
    "dfdx = x -> exp(x)*(x+1)\n",
    "slope1 = dfdx(x1)\n",
    "tangent1 = x -> f1 + slope1*(x-x1)\n",
    "\n",
    "plot!(tangent1,0,1.5,l=:dash,label=\"tangent line\",ylim=[-2,4])"
   ]
  },
  {
   "cell_type": "markdown",
   "metadata": {},
   "source": [
    "In lieu of finding the root of $f$ itself, we settle for finding the root of the tangent line approximation, which is trivial. Call this $x_2$, our next approximation to the root."
   ]
  },
  {
   "cell_type": "code",
   "execution_count": null,
   "metadata": {},
   "outputs": [],
   "source": [
    "x2 = x1 - f1/slope1\n",
    "scatter!([x2],[0],label=\"tangent root\")"
   ]
  },
  {
   "cell_type": "code",
   "execution_count": null,
   "metadata": {},
   "outputs": [],
   "source": [
    "f2 = f(x2)"
   ]
  },
  {
   "cell_type": "markdown",
   "metadata": {},
   "source": [
    "The residual (value of $f$) is smaller than before, but not zero. So we repeat the process with a new tangent line based on the latest point on the curve."
   ]
  },
  {
   "cell_type": "code",
   "execution_count": null,
   "metadata": {},
   "outputs": [],
   "source": [
    "plot(f,0.83,0.88)\n",
    "scatter!([x2],[f2])\n",
    "slope2 = dfdx(x2)\n",
    "tangent2 = x -> f2 + slope2*(x-x2)\n",
    "plot!(tangent2,0.83,0.88,l=:dash)\n",
    "x3 = x2 - f2/slope2\n",
    "scatter!([x3],[0],\n",
    "    legend=:none,xlabel=\"x\",ylabel=\"y\",title=\"Second iteration\")"
   ]
  },
  {
   "cell_type": "code",
   "execution_count": null,
   "metadata": {},
   "outputs": [],
   "source": [
    "f1"
   ]
  },
  {
   "cell_type": "code",
   "execution_count": null,
   "metadata": {},
   "outputs": [],
   "source": [
    "f2"
   ]
  },
  {
   "cell_type": "code",
   "execution_count": null,
   "metadata": {},
   "outputs": [],
   "source": [
    "f3 = f(x3)"
   ]
  },
  {
   "cell_type": "markdown",
   "metadata": {},
   "source": [
    "We appear to be getting closer to the true root each time. "
   ]
  },
  {
   "cell_type": "markdown",
   "metadata": {},
   "source": [
    "# Example 4.3.2"
   ]
  },
  {
   "cell_type": "markdown",
   "metadata": {},
   "source": [
    "We again look at finding a solution of $xe^x=2$ near $x=1$. To apply Newton's method, we need to calculate values of both the residual function $f$ and its derivative.  "
   ]
  },
  {
   "cell_type": "code",
   "execution_count": null,
   "metadata": {},
   "outputs": [],
   "source": [
    "f = x -> x*exp(x) - 2;\n",
    "dfdx = x -> exp(x)*(x+1);"
   ]
  },
  {
   "cell_type": "markdown",
   "metadata": {},
   "source": [
    "We don't know the exact root, so we use `nlsolve` (from `NLsolve`) to determine the \"true\" value."
   ]
  },
  {
   "cell_type": "code",
   "execution_count": null,
   "metadata": {},
   "outputs": [],
   "source": [
    "r = nlsolve(x -> f(x[1]),[1.]).zero"
   ]
  },
  {
   "cell_type": "markdown",
   "metadata": {},
   "source": [
    "We use $x_1=1$ as a starting guess and apply the iteration in a loop, storing the sequence of iterates in a vector."
   ]
  },
  {
   "cell_type": "code",
   "execution_count": null,
   "metadata": {},
   "outputs": [],
   "source": [
    "x = [1;zeros(6)]\n",
    "for k = 1:6\n",
    "    x[k+1] = x[k] - f(x[k]) / dfdx(x[k])\n",
    "end\n",
    "x"
   ]
  },
  {
   "cell_type": "markdown",
   "metadata": {},
   "source": [
    "Here is the sequence of errors. "
   ]
  },
  {
   "cell_type": "code",
   "execution_count": null,
   "metadata": {},
   "outputs": [],
   "source": [
    "err = @. x - r"
   ]
  },
  {
   "cell_type": "markdown",
   "metadata": {},
   "source": [
    "Glancing at the exponents of the errors, they roughly form a neat doubling sequence until the error is comparable to machine precision. We can see this more precisely by taking logs."
   ]
  },
  {
   "cell_type": "code",
   "execution_count": null,
   "metadata": {},
   "outputs": [],
   "source": [
    "logerr = @. log(abs(err))"
   ]
  },
  {
   "cell_type": "markdown",
   "metadata": {},
   "source": [
    "Quadratic convergence isn't as graphically distinctive as linear convergence."
   ]
  },
  {
   "cell_type": "code",
   "execution_count": null,
   "metadata": {},
   "outputs": [],
   "source": [
    "plot(0:6,abs.(err),m=:o,label=\"\",\n",
    "    xlabel=\"\\$k\\$\",yaxis=(:log10,\"\\$|x_k-r|\\$\"),title=\"Quadratic convergence\")"
   ]
  },
  {
   "cell_type": "markdown",
   "metadata": {},
   "source": [
    "This looks faster than linear convergence, but it's not easy to say more. If we could use infinite precision, the curve would continue to steepen forever."
   ]
  },
  {
   "cell_type": "markdown",
   "metadata": {},
   "source": [
    "# Example 4.3.3"
   ]
  },
  {
   "cell_type": "markdown",
   "metadata": {},
   "source": [
    "Suppose we want to solve $e^x=x+c$ for multiple values of $c$. We can create functions for $f$ and $f'$ in each case."
   ]
  },
  {
   "cell_type": "code",
   "execution_count": null,
   "metadata": {},
   "outputs": [],
   "source": [
    "for c = [2,4,7.5,11]\n",
    "    f = x -> exp(x) - x - c;\n",
    "    dfdx = x -> exp(x) - 1;\n",
    "    x = newton(f,dfdx,1.0);  r = x[end];\n",
    "    println(\"root with c = $c is $r\")\n",
    "end"
   ]
  },
  {
   "cell_type": "markdown",
   "metadata": {},
   "source": [
    "There's a subtlety about the definition of `f`. It uses whatever value is assigned to `c` at the moment `f` is called. (This is unlike MATLAB, which locks in the value defined for `c` at the moment of definition.) If we later change the value assigned to `c`, the function is changed also."
   ]
  },
  {
   "cell_type": "code",
   "execution_count": null,
   "metadata": {},
   "outputs": [],
   "source": [
    "c = 11;  f = x -> exp(x) - x - c;\n",
    "@show f(0);"
   ]
  },
  {
   "cell_type": "code",
   "execution_count": null,
   "metadata": {},
   "outputs": [],
   "source": [
    "c = 100; \n",
    "@show f(0);"
   ]
  },
  {
   "cell_type": "markdown",
   "metadata": {},
   "source": [
    "# Example 4.4.1"
   ]
  },
  {
   "cell_type": "markdown",
   "metadata": {},
   "source": [
    "We return to finding a root of the equation $xe^x=2$."
   ]
  },
  {
   "cell_type": "code",
   "execution_count": null,
   "metadata": {},
   "outputs": [],
   "source": [
    "f = x -> x*exp(x) - 2;\n",
    "plot(f,0.25,1.25,label=\"function\",leg=:topleft)"
   ]
  },
  {
   "cell_type": "markdown",
   "metadata": {},
   "source": [
    "From the graph, it's clear that there is a root near $x=1$. To be more precise, there is a root in the interval $[0.5,1]$. So let us take the endpoints of that interval as _two_ initial approximations. "
   ]
  },
  {
   "cell_type": "code",
   "execution_count": null,
   "metadata": {},
   "outputs": [],
   "source": [
    "x1 = 1;    f1 = f(x1);\n",
    "x2 = 0.5;  f2 = f(x2);\n",
    "scatter!([x1,x2],[f1,f2],label=\"initial points\")"
   ]
  },
  {
   "cell_type": "markdown",
   "metadata": {},
   "source": [
    "Instead of constructing the tangent line by evaluating the derivative, we can construct a linear model function by drawing the line between the two points $\\bigl(x_1,f(x_1)\\bigr)$ and $\\bigl(x_2,f(x_2)\\bigr)$. This is called a _secant line_."
   ]
  },
  {
   "cell_type": "code",
   "execution_count": null,
   "metadata": {},
   "outputs": [],
   "source": [
    "slope2 = (f2-f1) / (x2-x1);\n",
    "secant2 = x -> f2 + slope2*(x-x2);\n",
    "plot!(secant2,0.25,1.25,label=\"secant line\",l=:dash,color=:black)"
   ]
  },
  {
   "cell_type": "markdown",
   "metadata": {},
   "source": [
    "As before, the next value in the iteration is the root of this linear model. "
   ]
  },
  {
   "cell_type": "code",
   "execution_count": null,
   "metadata": {},
   "outputs": [],
   "source": [
    "x3 = x2 - f2/slope2;\n",
    "@show f3 = f(x3)\n",
    "scatter!([x3],[0],label=\"root of secant\")"
   ]
  },
  {
   "cell_type": "markdown",
   "metadata": {},
   "source": [
    "For the next linear model, we use the line through the two most recent points. The next iterate is the root of that secant line, and so on."
   ]
  },
  {
   "cell_type": "code",
   "execution_count": null,
   "metadata": {},
   "outputs": [],
   "source": [
    "slope3 = (f3-f2) / (x3-x2);\n",
    "x4 = x3 - f3/slope3;\n",
    "f4 = f(x4)"
   ]
  },
  {
   "cell_type": "markdown",
   "metadata": {},
   "source": [
    "# Example 4.4.2"
   ]
  },
  {
   "cell_type": "markdown",
   "metadata": {},
   "source": [
    "We check the convergence of the secant method from the previous example."
   ]
  },
  {
   "cell_type": "code",
   "execution_count": null,
   "metadata": {},
   "outputs": [],
   "source": [
    "f = x -> x*exp(x) - 2;\n",
    "x = secant(f,1,0.5)"
   ]
  },
  {
   "cell_type": "markdown",
   "metadata": {},
   "source": [
    "We don't know the exact root, so we use `nlsolve` to get a substitute."
   ]
  },
  {
   "cell_type": "code",
   "execution_count": null,
   "metadata": {},
   "outputs": [],
   "source": [
    "r = nlsolve(x->f(x[1]),[1.]).zero"
   ]
  },
  {
   "cell_type": "markdown",
   "metadata": {},
   "source": [
    "Here is the sequence of errors. "
   ]
  },
  {
   "cell_type": "code",
   "execution_count": null,
   "metadata": {},
   "outputs": [],
   "source": [
    "err = @. r - x"
   ]
  },
  {
   "cell_type": "markdown",
   "metadata": {},
   "source": [
    "It's not so easy to see the convergence rate by looking at these numbers. But we can check the ratios of the log of successive errors. "
   ]
  },
  {
   "cell_type": "code",
   "execution_count": null,
   "metadata": {},
   "outputs": [],
   "source": [
    "logerr = @. log(abs(err))"
   ]
  },
  {
   "cell_type": "code",
   "execution_count": null,
   "metadata": {},
   "outputs": [],
   "source": [
    "ratios = @. logerr[2:end] / logerr[1:end-1]"
   ]
  },
  {
   "cell_type": "markdown",
   "metadata": {},
   "source": [
    "It seems to be heading toward a constant ratio of about 1.6 before it bumps up against machine precision."
   ]
  },
  {
   "cell_type": "markdown",
   "metadata": {},
   "source": [
    "# Example 4.5.2"
   ]
  },
  {
   "cell_type": "markdown",
   "metadata": {},
   "source": [
    "Let us use Newton's method on the system defined by the function"
   ]
  },
  {
   "cell_type": "code",
   "execution_count": null,
   "metadata": {},
   "outputs": [],
   "source": [
    "function nlvalue(x)\n",
    "    return [ \n",
    "        exp(x[2]-x[1]) - 2\n",
    "        x[1]*x[2] + x[3]\n",
    "        x[2]*x[3] + x[1]^2 - x[2]\n",
    "    ]\n",
    "end"
   ]
  },
  {
   "cell_type": "markdown",
   "metadata": {},
   "source": [
    "Here is a function that computes the Jacobian matrix."
   ]
  },
  {
   "cell_type": "code",
   "execution_count": null,
   "metadata": {},
   "outputs": [],
   "source": [
    "function nljac(x)\n",
    "    J = zeros(3,3)\n",
    "    J[1,:] = [-exp(x[2]-x[1]), exp(x[2]-x[1]), 0]\n",
    "    J[2,:] = [x[2], x[1], 1]\n",
    "    J[3,:] = [2*x[1], x[3]-1, x[2]]\n",
    "    return J\n",
    "end"
   ]
  },
  {
   "cell_type": "markdown",
   "metadata": {},
   "source": [
    "(These functions could be written as separate files, or embedded within another function as we have done here.) Our initial guess at a root is the origin."
   ]
  },
  {
   "cell_type": "code",
   "execution_count": null,
   "metadata": {},
   "outputs": [],
   "source": [
    "x = [0,0,0]"
   ]
  },
  {
   "cell_type": "markdown",
   "metadata": {},
   "source": [
    "We need the value (residual) of the nonlinear function, and its Jacobian, at this value for $\\mathbf{x}$. "
   ]
  },
  {
   "cell_type": "code",
   "execution_count": null,
   "metadata": {},
   "outputs": [],
   "source": [
    "@show f = nlvalue(x)\n",
    "J = nljac(x)"
   ]
  },
  {
   "cell_type": "markdown",
   "metadata": {},
   "source": [
    "We solve for the Newton step and compute the new estimate. "
   ]
  },
  {
   "cell_type": "code",
   "execution_count": null,
   "metadata": {},
   "outputs": [],
   "source": [
    "s = -(J\\f)\n",
    "x = [x x[:,1]+s]"
   ]
  },
  {
   "cell_type": "markdown",
   "metadata": {},
   "source": [
    "Here is the new residual."
   ]
  },
  {
   "cell_type": "code",
   "execution_count": null,
   "metadata": {},
   "outputs": [],
   "source": [
    "nlvalue(x[:,2])"
   ]
  },
  {
   "cell_type": "markdown",
   "metadata": {},
   "source": [
    "We don't seem to be especially close to a root. Let's iterate a few more times. "
   ]
  },
  {
   "cell_type": "code",
   "execution_count": null,
   "metadata": {},
   "outputs": [],
   "source": [
    "for n = 2:7\n",
    "    f = [f nlvalue(x[:,n])]\n",
    "    s = -( nljac(x[:,n]) \\ f[:,n] )\n",
    "    x = [x x[:,n]+s]\n",
    "end"
   ]
  },
  {
   "cell_type": "code",
   "execution_count": null,
   "metadata": {},
   "outputs": [],
   "source": [
    "nlvalue(x[:,end])"
   ]
  },
  {
   "cell_type": "code",
   "execution_count": null,
   "metadata": {},
   "outputs": [],
   "source": [
    "x[:,end]"
   ]
  },
  {
   "cell_type": "markdown",
   "metadata": {},
   "source": [
    "We find the infinity norm of the residuals. "
   ]
  },
  {
   "cell_type": "code",
   "execution_count": null,
   "metadata": {},
   "outputs": [],
   "source": [
    "f"
   ]
  },
  {
   "cell_type": "code",
   "execution_count": null,
   "metadata": {},
   "outputs": [],
   "source": [
    "residual_norm = maximum(abs.(f),dims=1)   # max in dimension 1"
   ]
  },
  {
   "cell_type": "markdown",
   "metadata": {},
   "source": [
    "We don't know an exact answer, so we will take the last computed value as its surrogate. "
   ]
  },
  {
   "cell_type": "code",
   "execution_count": null,
   "metadata": {},
   "outputs": [],
   "source": [
    "r = x[:,end]\n",
    "x = x[:,1:end-1]"
   ]
  },
  {
   "cell_type": "markdown",
   "metadata": {},
   "source": [
    "The following will subtract r from every column of x."
   ]
  },
  {
   "cell_type": "code",
   "execution_count": null,
   "metadata": {},
   "outputs": [],
   "source": [
    "e = x .- r\n",
    "e[:,2:end]"
   ]
  },
  {
   "cell_type": "markdown",
   "metadata": {},
   "source": [
    "Now we take infinity norms and check for quadratic convergence. "
   ]
  },
  {
   "cell_type": "code",
   "execution_count": null,
   "metadata": {},
   "outputs": [],
   "source": [
    "errs = maximum(abs.(e),dims=1)\n",
    "errs[2:end]'"
   ]
  },
  {
   "cell_type": "code",
   "execution_count": null,
   "metadata": {},
   "outputs": [],
   "source": [
    "ratios = @. log(errs[2:end]) / log(errs[1:end-1])"
   ]
  },
  {
   "cell_type": "markdown",
   "metadata": {},
   "source": [
    "For a brief time, we see ratios around 2, but then the limitation of double precision makes it impossible for the doubling to continue. "
   ]
  },
  {
   "cell_type": "markdown",
   "metadata": {},
   "source": [
    "# Example 4.5.3"
   ]
  },
  {
   "cell_type": "markdown",
   "metadata": {},
   "source": [
    "As before, the system is defined by its residual and Jacobian, but this time we implement them as a single function."
   ]
  },
  {
   "cell_type": "code",
   "execution_count": null,
   "metadata": {},
   "outputs": [],
   "source": [
    "function nlsystem(x)\n",
    "    f = [\n",
    "        exp(x[2]-x[1]) - 2,\n",
    "        x[1]*x[2] + x[3],\n",
    "        x[2]*x[3] + x[1]^2 - x[2]\n",
    "        ]\n",
    "    J = [\n",
    "        -exp(x[2]-x[1]) exp(x[2]-x[1]) 0;\n",
    "        x[2] x[1] 1;\n",
    "        2*x[1] x[3]-1 x[2]\n",
    "    ]\n",
    "    return f,J\n",
    "end"
   ]
  },
  {
   "cell_type": "markdown",
   "metadata": {},
   "source": [
    "Our initial guess is the origin. The output has one column per iteration."
   ]
  },
  {
   "cell_type": "code",
   "execution_count": null,
   "metadata": {},
   "outputs": [],
   "source": [
    "x1 = [0,0,0]\n",
    "x = newtonsys(nlsystem,x1)"
   ]
  },
  {
   "cell_type": "markdown",
   "metadata": {},
   "source": [
    "The last column contains the final Newton estimate. We'll compute the residual there in order to check the quality of the result."
   ]
  },
  {
   "cell_type": "code",
   "execution_count": null,
   "metadata": {},
   "outputs": [],
   "source": [
    "r = x[:,end]\n",
    "f,J = nlsystem(r)\n",
    "f"
   ]
  },
  {
   "cell_type": "markdown",
   "metadata": {},
   "source": [
    "Let's use the convergence to the first component of the root as a proxy for the convergence of the vectors."
   ]
  },
  {
   "cell_type": "code",
   "execution_count": null,
   "metadata": {},
   "outputs": [],
   "source": [
    "@. log( 10,abs(x[1,1:end-1]-r[1]) )"
   ]
  },
  {
   "cell_type": "markdown",
   "metadata": {},
   "source": [
    "The exponents approximately double, as is expected of quadratic convergence. "
   ]
  },
  {
   "cell_type": "markdown",
   "metadata": {},
   "source": [
    "# Example 4.6.1"
   ]
  },
  {
   "cell_type": "markdown",
   "metadata": {},
   "source": [
    "To solve a nonlinear system, we need to code only the function defining the system (residual vector), and not its Jacobian."
   ]
  },
  {
   "cell_type": "code",
   "execution_count": null,
   "metadata": {},
   "outputs": [],
   "source": [
    "function nlsystem(x)\n",
    "    return [ exp(x[2]-x[1]) - 2,\n",
    "          x[1]*x[2] + x[3],\n",
    "          x[2]*x[3] + x[1]^2 - x[2]\n",
    "        ]\n",
    "end"
   ]
  },
  {
   "cell_type": "markdown",
   "metadata": {},
   "source": [
    "In all other respects usage is the same as for the `newtonsys` function. "
   ]
  },
  {
   "cell_type": "code",
   "execution_count": null,
   "metadata": {},
   "outputs": [],
   "source": [
    "include(\"functions/chapter04.jl\")\n",
    "x1 = [0,0,0]   \n",
    "x = levenberg(nlsystem,x1)"
   ]
  },
  {
   "cell_type": "markdown",
   "metadata": {},
   "source": [
    "It's always a good idea to check the accuracy of the root, by measuring the residual (backward error). "
   ]
  },
  {
   "cell_type": "code",
   "execution_count": null,
   "metadata": {},
   "outputs": [],
   "source": [
    "r = x[:,end]\n",
    "@show backward_err = norm(nlsystem(r));"
   ]
  },
  {
   "cell_type": "markdown",
   "metadata": {},
   "source": [
    "Looking at the convergence of the first component, we find a subquadratic convergence rate, just as with the secant method."
   ]
  },
  {
   "cell_type": "code",
   "execution_count": null,
   "metadata": {},
   "outputs": [],
   "source": [
    "@. log( 10, abs(x[1,1:end-1]-r[1]) )"
   ]
  },
  {
   "cell_type": "markdown",
   "metadata": {},
   "source": [
    "# Example 4.7.1"
   ]
  },
  {
   "cell_type": "markdown",
   "metadata": {},
   "source": [
    "Inhibited enzyme reactions often follow what are known as _Michaelis–Menten_ kinetics, in which a reaction rate $v$ follows a law of the form\n",
    "\n",
    "$$v(x) = \\frac{V x}{K_m + x},$$ "
   ]
  },
  {
   "cell_type": "markdown",
   "metadata": {},
   "source": [
    "where $x$ is the concentration of a substrate. The real values $V$ and $K_m$ are parameters that are free to fit to data. For this example we cook up some artificial data with $V=2$ and $K_m=1/2$."
   ]
  },
  {
   "cell_type": "code",
   "execution_count": null,
   "metadata": {},
   "outputs": [],
   "source": [
    "m = 25;\n",
    "x = range(0.05,stop=6,length=m)\n",
    "y = @. 2*x/(0.5+x)                   # exactly on the curve\n",
    "@. y += 0.15*cos(2*exp(x/16)*x);     # noise added"
   ]
  },
  {
   "cell_type": "code",
   "execution_count": null,
   "metadata": {},
   "outputs": [],
   "source": [
    "scatter(x,2*x./(0.5.+x),label=\"true values\",\n",
    "     xlabel=\"x\",ylabel=\"v\",leg=:bottomright)\n",
    "scatter!(x,y,label=\"data\",\n",
    "     xlabel=\"x\",ylabel=\"v\",leg=:bottomright)"
   ]
  },
  {
   "cell_type": "markdown",
   "metadata": {},
   "source": [
    "The idea is to pretend that we know nothing of the origins of this data and use nonlinear least squares on the misfit to find the parameters in the theoretical model function $v(x)$. Note in the Jacobian that the derivatives are _not_ with respect to $x$, but with respect to the two parameters, which are contained in the vector `c`."
   ]
  },
  {
   "cell_type": "code",
   "execution_count": null,
   "metadata": {},
   "outputs": [],
   "source": [
    "function misfit(c)\n",
    "    V,Km = c   # rename components for clarity\n",
    "    f = @. V*x/(Km+x) - y\n",
    "    J = zeros(m,2)\n",
    "    J[:,1] = @. x/(Km+x)              # d/d(V)\n",
    "    J[:,2] = @. -V*x/(Km+x)^2         # d/d(Km)\n",
    "    return f,J\n",
    "end"
   ]
  },
  {
   "cell_type": "code",
   "execution_count": null,
   "metadata": {},
   "outputs": [],
   "source": [
    "c1 = [1, 0.75]\n",
    "c = newtonsys(misfit,c1)\n",
    "@show V,Km = c[:,end]  # final values"
   ]
  },
  {
   "cell_type": "markdown",
   "metadata": {},
   "source": [
    "The final values are close to the noise-free values of $V=2$, $K_m=0.5$ that we used to generate the data. We can calculate the amount of misfit at the end, although it's not completely clear what a \"good\" value would be. Graphically, the model looks reasonable."
   ]
  },
  {
   "cell_type": "code",
   "execution_count": null,
   "metadata": {},
   "outputs": [],
   "source": [
    "for i = 1:size(c,2)\n",
    "    V, Km = c[:,i]\n",
    "    model = x -> V*x/(Km+x)\n",
    "    final_misfit_norm = norm(@.model(x)-y) \n",
    "    println(\"$i: $final_misfit_norm\")\n",
    "end"
   ]
  },
  {
   "cell_type": "code",
   "execution_count": null,
   "metadata": {},
   "outputs": [],
   "source": [
    "V, Km = c[:,end]\n",
    "scatter(x,2*x./(0.5.+x),label=\"true values\",\n",
    "     xlabel=\"x\",ylabel=\"v\",leg=:bottomright)\n",
    "scatter!(x,y,label=\"data\",\n",
    "     xlabel=\"x\",ylabel=\"v\",leg=:bottomright)\n",
    "plot!(model,0,6,label=\"MM fit\" )"
   ]
  },
  {
   "cell_type": "markdown",
   "metadata": {},
   "source": [
    "For this model, we also have the option of linearizing the fit process. Rewrite the model as $1/v= (a/x)+b$ for the new parameters $\\alpha=K_m/V$ and $\\beta=1/V$. This corresponds to the misfit function whose entries are \n",
    "\n",
    "$$f_i(\\alpha,\\beta) = \\alpha \\cdot \\frac{1}{x_i} + \\beta - \\frac{1}{y_i},$$ \n",
    "\n",
    "for $i=1,\\ldots,m$. Although the misfit is nonlinear in $x$ and $y$, it's linear in the unknown parameters $\\alpha$ and $\\beta$, and so can be posed and solved as a linear least-squares problem."
   ]
  },
  {
   "cell_type": "code",
   "execution_count": null,
   "metadata": {},
   "outputs": [],
   "source": [
    "A = [ x.^(-1) x.^0 ];  u = @. 1/y;\n",
    "z =  A\\u;\n",
    "alpha,beta = z"
   ]
  },
  {
   "cell_type": "code",
   "execution_count": null,
   "metadata": {},
   "outputs": [],
   "source": [
    "Vlss = 1/beta\n",
    "Kmlss = alpha*V\n",
    "Vlss, Kmlss"
   ]
  },
  {
   "cell_type": "markdown",
   "metadata": {},
   "source": [
    "The two fits are different, because they do not optimize the same quantities. "
   ]
  },
  {
   "cell_type": "code",
   "execution_count": null,
   "metadata": {},
   "outputs": [],
   "source": [
    "linmodel = x -> 1 / (beta + alpha/x);\n",
    "final_misfit_linearized = norm(@. linmodel(x)-y)"
   ]
  },
  {
   "cell_type": "code",
   "execution_count": null,
   "metadata": {},
   "outputs": [],
   "source": [
    "V, Km = c[:,end]\n",
    "scatter(x,2*x./(0.5.+x),label=\"true values\",\n",
    "     xlabel=\"x\",ylabel=\"v\",leg=:bottomright)\n",
    "scatter!(x,y,label=\"data\",\n",
    "     xlabel=\"x\",ylabel=\"v\",leg=:bottomright)\n",
    "plot!(model,0,6,label=\"MM fit\" )\n",
    "\n",
    "V, Km = Vlss, Kmlss\n",
    "plot!(model,0,6,label=\"linearized fit\")"
   ]
  },
  {
   "cell_type": "code",
   "execution_count": null,
   "metadata": {},
   "outputs": [],
   "source": []
  }
 ],
 "metadata": {
  "@webio": {
   "lastCommId": null,
   "lastKernelId": null
  },
  "kernelspec": {
   "display_name": "Julia 1.5.3",
   "language": "julia",
   "name": "julia-1.5"
  },
  "language_info": {
   "file_extension": ".jl",
   "mimetype": "application/julia",
   "name": "julia",
   "version": "1.5.3"
  },
  "latex_envs": {
   "LaTeX_envs_menu_present": true,
   "autoclose": false,
   "autocomplete": true,
   "bibliofile": "biblio.bib",
   "cite_by": "apalike",
   "current_citInitial": 1,
   "eqLabelWithNumbers": true,
   "eqNumInitial": 1,
   "hotkeys": {
    "equation": "Ctrl-E",
    "itemize": "Ctrl-I"
   },
   "labels_anchors": false,
   "latex_user_defs": false,
   "report_style_numbering": true,
   "user_envs_cfg": false
  },
  "toc": {
   "base_numbering": 1,
   "nav_menu": {},
   "number_sections": true,
   "sideBar": true,
   "skip_h1_title": false,
   "title_cell": "Table of Contents",
   "title_sidebar": "Contents",
   "toc_cell": false,
   "toc_position": {},
   "toc_section_display": true,
   "toc_window_display": false
  }
 },
 "nbformat": 4,
 "nbformat_minor": 2
}
